{
 "cells": [
  {
   "cell_type": "code",
   "execution_count": 1,
   "metadata": {},
   "outputs": [],
   "source": [
    "import numpy as np\n",
    "import pandas as pd\n",
    "import math\n",
    "\n",
    "array = [[-0.2,0.5,0],\n",
    "        [0.2,-0.5,0],\n",
    "        [0.8,-0.8,1],\n",
    "        [0.8,0.8,1]]\n",
    "\n",
    "w = [(i,j,k) \n",
    "     for i in np.arange(-10, 10, 0.1) \n",
    "     for j in np.arange(-10, 10, 0.1)\n",
    "     for k in np.arange(-10, 10, 0.1)]"
   ]
  },
  {
   "cell_type": "markdown",
   "metadata": {},
   "source": [
    "## BINARY function"
   ]
  },
  {
   "cell_type": "code",
   "execution_count": 2,
   "metadata": {},
   "outputs": [],
   "source": [
    "def binary_find_valid_for_row(row,w):\n",
    "    valid = []\n",
    "    for i in w:\n",
    "        a = row[0]*i[0] + row[1]*i[1] + i[2]\n",
    "        if (row[-1] == 0 and a < 0) or (row[-1] == 1 and a >= 0):\n",
    "            valid.append(i)\n",
    "    return valid"
   ]
  },
  {
   "cell_type": "code",
   "execution_count": 9,
   "metadata": {},
   "outputs": [],
   "source": [
    "bvalid = w\n",
    "bvalid_temp = []\n",
    "for row in array:\n",
    "    bvalid_temp = binary_find_valid_for_row(row,bvalid)\n",
    "    bvalid = bvalid_temp\n",
    "\n",
    "bvalid = [(round(i,2),round(j,2),round(k,2)) for (i,j,k) in bvalid]"
   ]
  },
  {
   "cell_type": "code",
   "execution_count": 10,
   "metadata": {},
   "outputs": [
    {
     "name": "stdout",
     "output_type": "stream",
     "text": [
      "First: (0.2, -0.0, -0.1) \\Last: (9.9, 7.5, -1.8)\n"
     ]
    }
   ],
   "source": [
    "print(\"First:\",bvalid[0],\"\\Last:\",bvalid[-1])"
   ]
  },
  {
   "cell_type": "markdown",
   "metadata": {},
   "source": [
    "## SIGMOID function\n",
    "class <b>0</b>: f(a) < 0.07<br>\n",
    "class  <b>1</b>: f(a) > 0.93"
   ]
  },
  {
   "cell_type": "code",
   "execution_count": 5,
   "metadata": {},
   "outputs": [],
   "source": [
    "def sigmoid_find_valid_for_row(row,w):\n",
    "    valid = []\n",
    "    for i in w:\n",
    "        a = row[0]*i[0] + row[1]*i[1] + i[2]\n",
    "        fa = 1/(1+math.exp(-a))\n",
    "        \n",
    "        if fa > 0.93:\n",
    "            fa = 1\n",
    "        if fa < 0.07:\n",
    "            fa = 0\n",
    "        if fa == row[-1]:\n",
    "            valid.append(i)\n",
    "    return valid"
   ]
  },
  {
   "cell_type": "code",
   "execution_count": 6,
   "metadata": {},
   "outputs": [],
   "source": [
    "svalid = w\n",
    "svalid_temp = []\n",
    "for row in array:\n",
    "    svalid_temp = sigmoid_find_valid_for_row(row,svalid)\n",
    "    svalid = svalid_temp\n",
    "    \n",
    "svalid = [(round(i,2),round(j,2),round(k,2)) for (i,j,k) in svalid]"
   ]
  },
  {
   "cell_type": "code",
   "execution_count": 8,
   "metadata": {},
   "outputs": [
    {
     "name": "stdout",
     "output_type": "stream",
     "text": [
      "First: (8.8, -0.0, -4.4) \\Last: (9.9, 2.4, -3.4)\n"
     ]
    }
   ],
   "source": [
    "print(\"First:\",svalid[0],\"\\Last:\",svalid[-1])"
   ]
  }
 ],
 "metadata": {
  "kernelspec": {
   "display_name": "Python 3",
   "language": "python",
   "name": "python3"
  },
  "language_info": {
   "codemirror_mode": {
    "name": "ipython",
    "version": 3
   },
   "file_extension": ".py",
   "mimetype": "text/x-python",
   "name": "python",
   "nbconvert_exporter": "python",
   "pygments_lexer": "ipython3",
   "version": "3.8.8"
  }
 },
 "nbformat": 4,
 "nbformat_minor": 2
}
